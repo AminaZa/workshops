{
  "nbformat": 4,
  "nbformat_minor": 0,
  "metadata": {
    "colab": {
      "name": "checkpoint1",
      "provenance": []
    },
    "kernelspec": {
      "name": "python3",
      "display_name": "Python 3"
    },
    "language_info": {
      "name": "python"
    }
  },
  "cells": [
    {
      "cell_type": "code",
      "metadata": {
        "colab": {
          "base_uri": "https://localhost:8080/"
        },
        "id": "1m0j4L2mDF15",
        "outputId": "2f19d90f-9b1a-4d93-b575-08addd7def67"
      },
      "source": [
        "print(\"Welcome to python world! Let's start coding\")"
      ],
      "execution_count": 2,
      "outputs": [
        {
          "output_type": "stream",
          "text": [
            "Welcome to python world! Let's start coding\n"
          ],
          "name": "stdout"
        }
      ]
    }
  ]
}