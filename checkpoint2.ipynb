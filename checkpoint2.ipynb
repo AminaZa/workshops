{
  "nbformat": 4,
  "nbformat_minor": 0,
  "metadata": {
    "colab": {
      "name": "checkpoint2.ipynb",
      "provenance": []
    },
    "kernelspec": {
      "name": "python3",
      "display_name": "Python 3"
    },
    "language_info": {
      "name": "python"
    }
  },
  "cells": [
    {
      "cell_type": "markdown",
      "metadata": {
        "id": "1pNL0tGJeost"
      },
      "source": [
        "Qestion 1:"
      ]
    },
    {
      "cell_type": "code",
      "metadata": {
        "colab": {
          "base_uri": "https://localhost:8080/"
        },
        "id": "JoJkkLsGfc8Q",
        "outputId": "07941932-1cab-4ace-cc87-37141d714a05"
      },
      "source": [
        "number = []\n",
        "for i in range(2000,3201):\n",
        "  if i % 7 == 0 and i % 5 != 0:\n",
        "    number.append(i)\n",
        "print(number)"
      ],
      "execution_count": 1,
      "outputs": [
        {
          "output_type": "stream",
          "text": [
            "[2002, 2009, 2016, 2023, 2037, 2044, 2051, 2058, 2072, 2079, 2086, 2093, 2107, 2114, 2121, 2128, 2142, 2149, 2156, 2163, 2177, 2184, 2191, 2198, 2212, 2219, 2226, 2233, 2247, 2254, 2261, 2268, 2282, 2289, 2296, 2303, 2317, 2324, 2331, 2338, 2352, 2359, 2366, 2373, 2387, 2394, 2401, 2408, 2422, 2429, 2436, 2443, 2457, 2464, 2471, 2478, 2492, 2499, 2506, 2513, 2527, 2534, 2541, 2548, 2562, 2569, 2576, 2583, 2597, 2604, 2611, 2618, 2632, 2639, 2646, 2653, 2667, 2674, 2681, 2688, 2702, 2709, 2716, 2723, 2737, 2744, 2751, 2758, 2772, 2779, 2786, 2793, 2807, 2814, 2821, 2828, 2842, 2849, 2856, 2863, 2877, 2884, 2891, 2898, 2912, 2919, 2926, 2933, 2947, 2954, 2961, 2968, 2982, 2989, 2996, 3003, 3017, 3024, 3031, 3038, 3052, 3059, 3066, 3073, 3087, 3094, 3101, 3108, 3122, 3129, 3136, 3143, 3157, 3164, 3171, 3178, 3192, 3199]\n"
          ],
          "name": "stdout"
        }
      ]
    },
    {
      "cell_type": "markdown",
      "metadata": {
        "id": "hN0oL6HJfvVQ"
      },
      "source": [
        "Question 2:"
      ]
    },
    {
      "cell_type": "code",
      "metadata": {
        "colab": {
          "base_uri": "https://localhost:8080/"
        },
        "id": "OHvPm-WvfyVa",
        "outputId": "d4ba6a96-ada6-4dca-aee0-15711a127928"
      },
      "source": [
        "def factorial(number):\n",
        "  ehh = 0\n",
        "  result = number\n",
        "  for i in range (number):\n",
        "    ehh += 1\n",
        "    if number - ehh == 0:\n",
        "      break\n",
        "    result = result * (number - ehh)\n",
        "  \n",
        "  return result\n",
        "factorial(3)"
      ],
      "execution_count": null,
      "outputs": [
        {
          "output_type": "execute_result",
          "data": {
            "text/plain": [
              "6"
            ]
          },
          "metadata": {
            "tags": []
          },
          "execution_count": 130
        }
      ]
    },
    {
      "cell_type": "markdown",
      "metadata": {
        "id": "ZW6vIcdMjxS2"
      },
      "source": [
        "Question 3 :"
      ]
    },
    {
      "cell_type": "code",
      "metadata": {
        "colab": {
          "base_uri": "https://localhost:8080/"
        },
        "id": "NrLRhpXJjyyu",
        "outputId": "c79359b5-9d40-4718-e071-5c14192fde5d"
      },
      "source": [
        "def smthng(numb):\n",
        "  dict1= {}\n",
        "  for i in range(1, numb + 1 ):\n",
        "    result = i * i\n",
        "    dict1[i] = result\n",
        "  print(dict1)\n",
        "smthng(8)"
      ],
      "execution_count": null,
      "outputs": [
        {
          "output_type": "stream",
          "text": [
            "{1: 1, 2: 4, 3: 9, 4: 16, 5: 25, 6: 36, 7: 49, 8: 64}\n"
          ],
          "name": "stdout"
        }
      ]
    },
    {
      "cell_type": "markdown",
      "metadata": {
        "id": "5OJej6C6nwgS"
      },
      "source": [
        "Question 4 :"
      ]
    },
    {
      "cell_type": "code",
      "metadata": {
        "colab": {
          "base_uri": "https://localhost:8080/",
          "height": 35
        },
        "id": "yWUv9-jVnyhh",
        "outputId": "d6ebf3e5-3bfb-4f62-9049-d77e3c6db6a0"
      },
      "source": [
        "def missing_char(word,inte):\n",
        "  inte = int(inte)\n",
        "  result = \"\"\n",
        "  for i in word:\n",
        "    if word.index(i) == inte:\n",
        "      i = word[inte].replace(i,\"\")\n",
        "    result = result + i\n",
        "  return result\n",
        "missing_char(\"kitten\",4)\n",
        "\n"
      ],
      "execution_count": null,
      "outputs": [
        {
          "output_type": "execute_result",
          "data": {
            "application/vnd.google.colaboratory.intrinsic+json": {
              "type": "string"
            },
            "text/plain": [
              "'kittn'"
            ]
          },
          "metadata": {
            "tags": []
          },
          "execution_count": 77
        }
      ]
    },
    {
      "cell_type": "markdown",
      "metadata": {
        "id": "BCe3FPz-qsLk"
      },
      "source": [
        "Question 5 :"
      ]
    },
    {
      "cell_type": "code",
      "metadata": {
        "colab": {
          "base_uri": "https://localhost:8080/"
        },
        "id": "CtvltQY3quNb",
        "outputId": "365e5668-43d1-4d43-e858-05bce02f994e"
      },
      "source": [
        "import numpy as np\n",
        "a = np.array([[0,1],[2,3],[4,5]])\n",
        "list1 = []\n",
        "for i in a:\n",
        "  list1.append(list(i))\n",
        "print(list1)"
      ],
      "execution_count": null,
      "outputs": [
        {
          "output_type": "stream",
          "text": [
            "[[0, 1], [2, 3], [4, 5]]\n"
          ],
          "name": "stdout"
        }
      ]
    },
    {
      "cell_type": "markdown",
      "metadata": {
        "id": "LZOGL2hLsN-3"
      },
      "source": [
        "Question 6:"
      ]
    },
    {
      "cell_type": "code",
      "metadata": {
        "colab": {
          "base_uri": "https://localhost:8080/"
        },
        "id": "Do8chn75sPqF",
        "outputId": "baab83c8-5261-4dfa-a9c1-4336a218cd82"
      },
      "source": [
        "import numpy as np\n",
        "ar1 = np.array([0,1,2])\n",
        "ar2 = np.array([2,1,0])\n",
        "b = np.cov(ar1,ar2)\n",
        "print(b)"
      ],
      "execution_count": null,
      "outputs": [
        {
          "output_type": "stream",
          "text": [
            "[[ 1. -1.]\n",
            " [-1.  1.]]\n"
          ],
          "name": "stdout"
        }
      ]
    },
    {
      "cell_type": "markdown",
      "metadata": {
        "id": "D3CwC5h8xej7"
      },
      "source": [
        "Question 7:"
      ]
    },
    {
      "cell_type": "code",
      "metadata": {
        "colab": {
          "base_uri": "https://localhost:8080/"
        },
        "id": "EFdlTlbdxgDi",
        "outputId": "a39bd7c8-f052-415d-886f-a5538c0c7c54"
      },
      "source": [
        "import math\n",
        "D = input(\"please enter ur numbers in a comma-separated sequence: \")\n",
        "C = 50\n",
        "H = 30\n",
        "Q = D.split(\",\")\n",
        "result = []\n",
        "for i in Q:\n",
        "  E = int(math.sqrt((2 * C * int(i))/H)) \n",
        "  result.append(E)\n",
        "print(result)\n"
      ],
      "execution_count": null,
      "outputs": [
        {
          "output_type": "stream",
          "text": [
            "please enter ur numbers in a comma-separated sequence: 100,150,182\n",
            "[18, 22, 24]\n"
          ],
          "name": "stdout"
        }
      ]
    }
  ]
}